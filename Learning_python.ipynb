{
 "cells": [
  {
   "cell_type": "markdown",
   "id": "eaefdcd4-a36c-482b-af0f-4e361afea133",
   "metadata": {
    "jp-MarkdownHeadingCollapsed": true
   },
   "source": [
    "# Dict and garbage collection"
   ]
  },
  {
   "cell_type": "markdown",
   "id": "aa4735d0-c36e-4023-8f85-ca9842d57a5d",
   "metadata": {},
   "source": [
    "# Character\n",
    "1. Does not follow indexing but we can extract the values with the help of keys\n",
    "2. Store data in the form of table \n",
    "3. key :- primitive, tuple, unique in nature, keys are immutable in nature\n",
    "4. Values:-declared all the data types of the values, duplicate the value, they are mutable in nature"
   ]
  },
  {
   "cell_type": "code",
   "execution_count": 9,
   "id": "3e7fd5ec-1ae9-4df4-a9e9-fadd6974a46a",
   "metadata": {},
   "outputs": [
    {
     "name": "stdout",
     "output_type": "stream",
     "text": [
      "{'name': 'aman yadav', 'age': '50', 'subject': 'programming'}\n",
      "<class 'dict'>\n"
     ]
    }
   ],
   "source": [
    "student = {\"name\":\"aman yadav\",\"age\":\"50\",\"subject\":\"programming\"}\n",
    "print(student)\n",
    "print(type(student))"
   ]
  },
  {
   "cell_type": "code",
   "execution_count": 10,
   "id": "15516029-2734-47c0-b9ad-fed5a35c73aa",
   "metadata": {},
   "outputs": [
    {
     "name": "stdout",
     "output_type": "stream",
     "text": [
      "programming\n"
     ]
    }
   ],
   "source": [
    "print(student[\"subject\"])"
   ]
  },
  {
   "cell_type": "code",
   "execution_count": 23,
   "id": "bb8b4de9-181a-4a1f-b371-7bd574a56e8c",
   "metadata": {},
   "outputs": [
    {
     "name": "stdout",
     "output_type": "stream",
     "text": [
      "{'name': 'aman yadav', 'age': 24, 'subject': 'programming', 'hobby': 'chess & football', 'negative': 'anger issue'}\n"
     ]
    }
   ],
   "source": [
    "# add values\n",
    "student[\"hobby\"]=\"chess & football\"\n",
    "student[\"negative\"]=\"anger issue\"\n",
    "print(student)"
   ]
  },
  {
   "cell_type": "code",
   "execution_count": 16,
   "id": "6caad899-6c3a-48df-a06b-0afaba5736e8",
   "metadata": {},
   "outputs": [
    {
     "name": "stdout",
     "output_type": "stream",
     "text": [
      "{'name': 'aman yadav', 'age': 24, 'subject': 'programming', 'hobby': 'chess & football', 'negative': 'anger issue'}\n"
     ]
    }
   ],
   "source": [
    "# replace value \n",
    "student[\"age\"]=24\n",
    "print(student)"
   ]
  },
  {
   "cell_type": "code",
   "execution_count": 19,
   "id": "870a28d2-006b-4d79-ba10-d9688cf9b73e",
   "metadata": {},
   "outputs": [
    {
     "name": "stdout",
     "output_type": "stream",
     "text": [
      "{'xyz': '50', (10, 20): 'abc'}\n"
     ]
    }
   ],
   "source": [
    "dict_2={\"xyz\":\"50\",(10,20):\"abc\"}\n",
    "print(dict_2)"
   ]
  },
  {
   "cell_type": "code",
   "execution_count": 24,
   "id": "1b03a46b-657a-4b0e-8840-0bfa66c126a5",
   "metadata": {},
   "outputs": [
    {
     "name": "stdout",
     "output_type": "stream",
     "text": [
      "{'name': 'aman yadav', 'age': 24, 'subject': 'programming', 'hobby': 'chess & football'}\n"
     ]
    }
   ],
   "source": [
    "# remove values\n",
    "student.pop(\"negative\")\n",
    "print(student)"
   ]
  },
  {
   "cell_type": "code",
   "execution_count": 26,
   "id": "d89ba7ff-4172-41e3-9bc8-edad9d3e935e",
   "metadata": {},
   "outputs": [
    {
     "name": "stdout",
     "output_type": "stream",
     "text": [
      "dict_keys(['name', 'age', 'subject', 'hobby'])\n"
     ]
    }
   ],
   "source": [
    "# only keys from dict\n",
    "print(student.keys())"
   ]
  },
  {
   "cell_type": "code",
   "execution_count": 27,
   "id": "a2c9b80a-d014-4548-9584-1ecf084b02b3",
   "metadata": {},
   "outputs": [
    {
     "name": "stdout",
     "output_type": "stream",
     "text": [
      "dict_values(['aman yadav', 24, 'programming', 'chess & football'])\n"
     ]
    }
   ],
   "source": [
    "print(student.values())"
   ]
  },
  {
   "cell_type": "code",
   "execution_count": 28,
   "id": "bd3aaaff-98a1-4bc7-bc54-c1de383744db",
   "metadata": {},
   "outputs": [
    {
     "name": "stdout",
     "output_type": "stream",
     "text": [
      "dict_items([('name', 'aman yadav'), ('age', 24), ('subject', 'programming'), ('hobby', 'chess & football')])\n"
     ]
    }
   ],
   "source": [
    "print(student.items())"
   ]
  },
  {
   "cell_type": "code",
   "execution_count": 31,
   "id": "113a4713-5abc-44ac-86ac-4db04a5da069",
   "metadata": {},
   "outputs": [
    {
     "name": "stdout",
     "output_type": "stream",
     "text": [
      "name : <class 'str'>\n",
      "age : <class 'int'>\n",
      "subject : <class 'str'>\n",
      "hobby : <class 'str'>\n"
     ]
    }
   ],
   "source": [
    "# judge the data types of the elements present inside stu dent\n",
    "for key, value in student.items():\n",
    "    print(f\"{key} : {type(value)}\")"
   ]
  },
  {
   "cell_type": "markdown",
   "id": "d7dad067-0e33-48e3-8d3d-53a0112d0f10",
   "metadata": {},
   "source": [
    "# List Comprehension"
   ]
  },
  {
   "cell_type": "code",
   "execution_count": 1,
   "id": "74c94643-e6b1-4109-b4b3-16086f844efb",
   "metadata": {},
   "outputs": [
    {
     "name": "stdout",
     "output_type": "stream",
     "text": [
      "[100, 400, 900, 1600, 2500]\n"
     ]
    }
   ],
   "source": [
    "list1 = [10,20,30,40,50]\n",
    "#square the given number of the list and give the output in the list format\n",
    "squarelist = []\n",
    "for i in list1:\n",
    "    z=i**2\n",
    "    squarelist.append(z)\n",
    "\n",
    "print(squarelist)"
   ]
  },
  {
   "cell_type": "code",
   "execution_count": 2,
   "id": "0e5b45e2-be6e-421d-96b1-58b9376d9d6d",
   "metadata": {},
   "outputs": [
    {
     "name": "stdout",
     "output_type": "stream",
     "text": [
      "[100, 400, 900, 1600, 2500]\n"
     ]
    }
   ],
   "source": [
    "# with the help of list comprehension\n",
    "squareListComprehension = [i**2 for i in list1]\n",
    "print(squareListComprehension)"
   ]
  },
  {
   "cell_type": "code",
   "execution_count": 4,
   "id": "1d2e01e0-add9-44e7-9409-5873ea3c92cf",
   "metadata": {},
   "outputs": [
    {
     "name": "stdin",
     "output_type": "stream",
     "text": [
      "Enter the size => 10\n"
     ]
    },
    {
     "name": "stdout",
     "output_type": "stream",
     "text": [
      "[0, 1, 2, 3, 4, 5, 6, 7, 8, 9]\n"
     ]
    }
   ],
   "source": [
    "# list of n natural number\n",
    "n = int(input(\"Enter the size =>\"))\n",
    "naturalNumber = [i for i in range(n)]\n",
    "print(naturalNumber)"
   ]
  },
  {
   "cell_type": "markdown",
   "id": "4d763942-5a7e-4bb6-a09c-fdf62684385b",
   "metadata": {},
   "source": [
    "# list comprehension with conditional statements if w/o else:\n",
    "syntax :\n",
    "var = [output_variable for i in iterable if condition]"
   ]
  },
  {
   "cell_type": "code",
   "execution_count": 5,
   "id": "49526b79-9cd7-4c3f-bce2-783c1c706844",
   "metadata": {},
   "outputs": [
    {
     "name": "stdin",
     "output_type": "stream",
     "text": [
      "Enter the size=> 10\n"
     ]
    },
    {
     "name": "stdout",
     "output_type": "stream",
     "text": [
      "[0, 2, 4, 6, 8]\n"
     ]
    }
   ],
   "source": [
    "# print the all natural number and print only even number\n",
    "n = int(input(\"Enter the size=>\"))\n",
    "number = [i for i in range(n) if i%2==0]\n",
    "print(number)"
   ]
  },
  {
   "cell_type": "markdown",
   "id": "17f6c659-384e-429f-a65d-edc731559173",
   "metadata": {},
   "source": [
    "# list comprehension with conditional statements if else:\n",
    "var1=[output if conditon else output for i in iterable ]"
   ]
  },
  {
   "cell_type": "code",
   "execution_count": 8,
   "id": "a3b98b04-5283-46f5-9740-d7eef4238e79",
   "metadata": {},
   "outputs": [
    {
     "data": {
      "text/plain": [
       "['odd',\n",
       " 'even',\n",
       " 'odd',\n",
       " 'even',\n",
       " 'odd',\n",
       " 'even',\n",
       " 'odd',\n",
       " 'even',\n",
       " 'odd',\n",
       " 'even',\n",
       " 'odd',\n",
       " 'even']"
      ]
     },
     "execution_count": 8,
     "metadata": {},
     "output_type": "execute_result"
    }
   ],
   "source": [
    "list_if_else = [\"even\" if i%2==0 else \"odd\" for i in range(1,13)]\n",
    "list_if_else"
   ]
  },
  {
   "cell_type": "code",
   "execution_count": 9,
   "id": "6ba0205d-1c7f-4e79-ae79-26344a3bdea5",
   "metadata": {},
   "outputs": [
    {
     "data": {
      "text/plain": [
       "['apple', 'yes', 'cherry', 'watermelon']"
      ]
     },
     "execution_count": 9,
     "metadata": {},
     "output_type": "execute_result"
    }
   ],
   "source": [
    "list_str = [\"apple\", \"banana\",\"cherry\",\"watermelon\"]\n",
    "practice = [\"yes\" if i[-1]==\"a\" else i for i in list_str]\n",
    "practice"
   ]
  },
  {
   "cell_type": "code",
   "execution_count": 1,
   "id": "30e71129-2173-4bc0-b83c-86e42897a452",
   "metadata": {},
   "outputs": [
    {
     "data": {
      "text/plain": [
       "[9, 16, 21, 24, 25, 24]"
      ]
     },
     "execution_count": 1,
     "metadata": {},
     "output_type": "execute_result"
    }
   ],
   "source": [
    "# you are having two list perform the product of respective index posittion of those list\n",
    "list1=[1,2,3,4,5,6]\n",
    "list2=[9,8,7,6,5,4]\n",
    "result=[a*b for a,b in zip(list1,list2)]\n",
    "result"
   ]
  },
  {
   "cell_type": "code",
   "execution_count": 2,
   "id": "65d13b0f-832e-4fc0-b4ef-393cc3ff28d5",
   "metadata": {},
   "outputs": [
    {
     "name": "stdout",
     "output_type": "stream",
     "text": [
      "[9, 16, 21, 24, 25, 24]\n"
     ]
    }
   ],
   "source": [
    "listProduct = []\n",
    "for i,j in zip(list1,list2):\n",
    "    listProduct.append(i*j)\n",
    "print(listProduct)"
   ]
  },
  {
   "cell_type": "markdown",
   "id": "4d7bb456-0c15-4269-91fe-6323258a39f3",
   "metadata": {},
   "source": [
    "# Dict comprehension"
   ]
  },
  {
   "cell_type": "markdown",
   "id": "2b8f1ee4-4f4c-4024-ad8d-d681ee150e16",
   "metadata": {},
   "source": [
    "## Character\n",
    "\n",
    "syntax\n",
    "var={i:i**2 for i in iterable}\n"
   ]
  },
  {
   "cell_type": "code",
   "execution_count": 5,
   "id": "828173a3-b903-48eb-af49-1785ab568568",
   "metadata": {},
   "outputs": [
    {
     "name": "stdout",
     "output_type": "stream",
     "text": [
      "{2: 4, 3: 9, 4: 16, 5: 25, 'key': 'values'}\n"
     ]
    }
   ],
   "source": [
    "dict_1={2:4,3:9,4:16,5:25}\n",
    "dict_1[\"key\"]=\"values\"\n",
    "print(dict_1)"
   ]
  },
  {
   "cell_type": "code",
   "execution_count": 6,
   "id": "10b2f0c2-1964-4c3b-86f0-c07d2b64ced7",
   "metadata": {},
   "outputs": [
    {
     "name": "stdout",
     "output_type": "stream",
     "text": [
      "{1: 1, 2: 4, 3: 9, 4: 16, 5: 25, 6: 36}\n"
     ]
    }
   ],
   "source": [
    "list_1=[1,2,3,4,5]\n",
    "dict_ans={}\n",
    "for i in list1:\n",
    "    dict_ans[i]=i**2\n",
    "print(dict_ans)"
   ]
  },
  {
   "cell_type": "code",
   "execution_count": 7,
   "id": "de8c8163-93e8-42a4-a128-7c52ede279b4",
   "metadata": {},
   "outputs": [
    {
     "name": "stdout",
     "output_type": "stream",
     "text": [
      "{1: 1, 2: 4, 3: 9, 4: 16, 5: 25}\n"
     ]
    }
   ],
   "source": [
    "dict_1={i:i**2 for i in list_1}\n",
    "print(dict_1)"
   ]
  },
  {
   "cell_type": "raw",
   "id": "06698f7a-666f-447f-ba29-db5ff6516450",
   "metadata": {},
   "source": [
    "# dict comprehension for if w/o else\n",
    "sytax\n",
    "dict_name={output for i in iterable if condition}\n",
    "\n",
    "# dict comprehension for if with else\n",
    "dict_name={output_for_if if conditon else conditon_output for i in iterable}"
   ]
  },
  {
   "cell_type": "markdown",
   "id": "11cc98aa-2191-4b22-b382-7579e946b485",
   "metadata": {},
   "source": [
    "# give the list print the word of the list as the key of the dict and last alphabet of the word as value inside the dict\n"
   ]
  },
  {
   "cell_type": "code",
   "execution_count": 12,
   "id": "e6956de6-9287-4297-b965-f80899016c0e",
   "metadata": {},
   "outputs": [
    {
     "name": "stdout",
     "output_type": "stream",
     "text": [
      "{'Basketball': 'l', 'Baseball': 'l', 'Cricket': 't', 'Hockey': 'y', 'Dancing': 'g', 'Kho-Kho': 'o'}\n"
     ]
    }
   ],
   "source": [
    "given_list=[\"Basketball\",\"Baseball\",\"Cricket\",\"Hockey\",\"Dancing\",\"Kho-Kho\"]\n",
    "outputDictionary={i:i[-1] for i in given_list}\n",
    "print(outputDictionary)"
   ]
  },
  {
   "cell_type": "markdown",
   "id": "95c84c25-0a09-432d-bc2b-8de9331b8993",
   "metadata": {},
   "source": [
    "# pick the n natural number and place that inside a list, after that find the number of which are less than 5 and perform the cube of that number and place the number as the key as dicitonary and cube as the value of dictionary"
   ]
  },
  {
   "cell_type": "code",
   "execution_count": 1,
   "id": "c94d3218-68f4-4680-86d2-177edffafa99",
   "metadata": {},
   "outputs": [
    {
     "name": "stdin",
     "output_type": "stream",
     "text": [
      "Enter the size =>  10\n"
     ]
    }
   ],
   "source": [
    "n=int(input(\"Enter the size => \"))"
   ]
  },
  {
   "cell_type": "code",
   "execution_count": 2,
   "id": "ad4e5089-6528-48f6-b60d-6a9114128214",
   "metadata": {},
   "outputs": [
    {
     "name": "stdout",
     "output_type": "stream",
     "text": [
      "[0, 1, 2, 3, 4, 5, 6, 7, 8, 9]\n"
     ]
    }
   ],
   "source": [
    "number_List=[i for i in range(n)]\n",
    "print(number_List)"
   ]
  },
  {
   "cell_type": "code",
   "execution_count": 5,
   "id": "d3a206af-82a1-4047-8648-b5b5fef9f6e6",
   "metadata": {},
   "outputs": [
    {
     "name": "stdout",
     "output_type": "stream",
     "text": [
      "{0: 0, 1: 1, 2: 8, 3: 27, 4: 64}\n"
     ]
    }
   ],
   "source": [
    "dict_list={i:i**3 for i in number_List if i<5}\n",
    "print(dict_list)"
   ]
  },
  {
   "cell_type": "code",
   "execution_count": 5,
   "id": "026cf534-33bc-4186-b6ae-0aa21e783844",
   "metadata": {},
   "outputs": [
    {
     "name": "stdout",
     "output_type": "stream",
     "text": [
      "['e', 'o']\n"
     ]
    }
   ],
   "source": [
    "w=\"hello\"\n",
    "v=('a','e','i','o','u')\n",
    "list4=[x for x in w if x in v]\n",
    "print(list4)"
   ]
  },
  {
   "cell_type": "code",
   "execution_count": 11,
   "id": "9b3e10cc-7b34-4fa0-862c-329c92efeb92",
   "metadata": {},
   "outputs": [
    {
     "ename": "KeyError",
     "evalue": "'susan'",
     "output_type": "error",
     "traceback": [
      "\u001b[1;31m---------------------------------------------------------------------------\u001b[0m",
      "\u001b[1;31mKeyError\u001b[0m                                  Traceback (most recent call last)",
      "Cell \u001b[1;32mIn[11], line 3\u001b[0m\n\u001b[0;32m      1\u001b[0m d\u001b[38;5;241m=\u001b[39m{\u001b[38;5;124m\"\u001b[39m\u001b[38;5;124maman\u001b[39m\u001b[38;5;124m\"\u001b[39m:\u001b[38;5;241m20\u001b[39m,\u001b[38;5;124m\"\u001b[39m\u001b[38;5;124myadav\u001b[39m\u001b[38;5;124m\"\u001b[39m:\u001b[38;5;241m10\u001b[39m}\n\u001b[0;32m      2\u001b[0m d2\u001b[38;5;241m=\u001b[39m{\u001b[38;5;124m\"\u001b[39m\u001b[38;5;124maman\u001b[39m\u001b[38;5;124m\"\u001b[39m:\u001b[38;5;241m40\u001b[39m,\u001b[38;5;124m\"\u001b[39m\u001b[38;5;124myadav\u001b[39m\u001b[38;5;124m\"\u001b[39m:\u001b[38;5;241m10\u001b[39m}\n\u001b[1;32m----> 3\u001b[0m \u001b[38;5;28mprint\u001b[39m(d[\u001b[38;5;124m\"\u001b[39m\u001b[38;5;124msusan\u001b[39m\u001b[38;5;124m\"\u001b[39m])\n",
      "\u001b[1;31mKeyError\u001b[0m: 'susan'"
     ]
    }
   ],
   "source": [
    "d={\"aman\":20,\"yadav\":10}\n",
    "d2={\"aman\":40,\"yadav\":10}\n",
    "print(d[\"susan\"])"
   ]
  },
  {
   "cell_type": "code",
   "execution_count": 13,
   "id": "db274f1e-0b3f-48d3-8337-f7a7969c8162",
   "metadata": {},
   "outputs": [
    {
     "name": "stdout",
     "output_type": "stream",
     "text": [
      "False\n"
     ]
    }
   ],
   "source": [
    "print(min(max(False,-3,-4),2,7))"
   ]
  },
  {
   "cell_type": "code",
   "execution_count": 15,
   "id": "712049f4-f21c-4ace-972f-951c5fc5743e",
   "metadata": {},
   "outputs": [
    {
     "name": "stdout",
     "output_type": "stream",
     "text": [
      "{2: 1, 1: [2, 3, 4]}\n",
      "3\n"
     ]
    }
   ],
   "source": [
    "a={}\n",
    "a[2]=1\n",
    "a[1]=[2,3,4]\n",
    "print(a)\n",
    "print(a[1][1])"
   ]
  },
  {
   "cell_type": "code",
   "execution_count": 16,
   "id": "6b300922-b5b6-490b-865a-e1dae403b002",
   "metadata": {},
   "outputs": [
    {
     "data": {
      "text/plain": [
       "{'a', 'b', 'c', 'p', 'q', 'san'}"
      ]
     },
     "execution_count": 16,
     "metadata": {},
     "output_type": "execute_result"
    }
   ],
   "source": [
    "z=set('abc')\n",
    "z.add('san')\n",
    "z.update(set(['p','q']))\n",
    "z"
   ]
  },
  {
   "cell_type": "code",
   "execution_count": 18,
   "id": "49a53be0-f52e-4f15-93f1-00d9a47f5b7f",
   "metadata": {},
   "outputs": [
    {
     "name": "stdout",
     "output_type": "stream",
     "text": [
      "[1, 2, 3, 4, 1]\n"
     ]
    }
   ],
   "source": [
    "def addItems(listParam):\n",
    "    listParam+=[1]\n",
    "\n",
    "mylist=[1,2,3,4]\n",
    "addItems(mylist)\n",
    "print(mylist)"
   ]
  },
  {
   "cell_type": "code",
   "execution_count": 19,
   "id": "5bc3838b-a122-4dab-b60d-5a8b9a4b6ce7",
   "metadata": {},
   "outputs": [
    {
     "name": "stdout",
     "output_type": "stream",
     "text": [
      "true\n"
     ]
    }
   ],
   "source": [
    "x=13\n",
    "if x>12 or x<15 and x==16:\n",
    "    print(\"true\")\n",
    "else:\n",
    "    print(\"false\")"
   ]
  },
  {
   "cell_type": "code",
   "execution_count": 20,
   "id": "193a7c98-85af-4780-a4d8-f27d72303f3b",
   "metadata": {},
   "outputs": [],
   "source": [
    "i=5\n",
    "if i>11:\n",
    "    print(\"i is greter\")\n"
   ]
  },
  {
   "cell_type": "code",
   "execution_count": null,
   "id": "f0a514d1-b6c2-483d-be75-2322626ba35a",
   "metadata": {},
   "outputs": [],
   "source": []
  }
 ],
 "metadata": {
  "kernelspec": {
   "display_name": "Python 3 (ipykernel)",
   "language": "python",
   "name": "python3"
  },
  "language_info": {
   "codemirror_mode": {
    "name": "ipython",
    "version": 3
   },
   "file_extension": ".py",
   "mimetype": "text/x-python",
   "name": "python",
   "nbconvert_exporter": "python",
   "pygments_lexer": "ipython3",
   "version": "3.12.7"
  }
 },
 "nbformat": 4,
 "nbformat_minor": 5
}
